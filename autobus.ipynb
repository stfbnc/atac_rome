{
 "cells": [
  {
   "cell_type": "code",
   "execution_count": 1,
   "metadata": {},
   "outputs": [],
   "source": [
    "import warnings\n",
    "warnings.filterwarnings('ignore')\n",
    "import numpy as np\n",
    "import pandas as pd\n",
    "import matplotlib.pyplot as plt\n",
    "import seaborn as sns\n",
    "sns.set()\n",
    "import wget\n",
    "import re\n",
    "import google.transit.gtfs_realtime_pb2 as gtfs\n",
    "from datetime import datetime\n",
    "import os\n",
    "import time\n",
    "import gmplot"
   ]
  },
  {
   "cell_type": "code",
   "execution_count": 2,
   "metadata": {},
   "outputs": [],
   "source": [
    "def get_lines():\n",
    "    routes = pd.read_csv('./rome_static_gtfs/routes.txt')\n",
    "    lines = routes.route_short_name.values\n",
    "    lines_numeric = []\n",
    "    for line in lines:\n",
    "        try:\n",
    "            lines_numeric.append(int(line))\n",
    "        except:\n",
    "            pass\n",
    "    lines_numeric = list(set(lines_numeric))\n",
    "    lines_numeric.sort()\n",
    "    return lines_numeric"
   ]
  },
  {
   "cell_type": "code",
   "execution_count": 3,
   "metadata": {},
   "outputs": [
    {
     "name": "stdout",
     "output_type": "stream",
     "text": [
      "Number of lines: 258\n"
     ]
    },
    {
     "data": {
      "text/plain": [
       "Text(0, 0.5, 'Line number')"
      ]
     },
     "execution_count": 3,
     "metadata": {},
     "output_type": "execute_result"
    },
    {
     "data": {
      "image/png": "[encoded data removed]",
      "text/plain": [
       "<Figure size 1080x1080 with 1 Axes>"
      ]
     },
     "metadata": {
      "needs_background": "light"
     },
     "output_type": "display_data"
    }
   ],
   "source": [
    "lines = get_lines()\n",
    "print('Number of lines: {}'.format(len(lines)))\n",
    "plt.figure(figsize=(15, 15))\n",
    "plt.plot(lines, 'o', markersize=1)\n",
    "plt.ylabel('Line number')"
   ]
  },
  {
   "cell_type": "markdown",
   "metadata": {},
   "source": [
    "# Functions"
   ]
  },
  {
   "cell_type": "code",
   "execution_count": 4,
   "metadata": {},
   "outputs": [],
   "source": [
    "def get_route_id(bus_num):\n",
    "    routes = pd.read_csv('./rome_static_gtfs/routes.txt')\n",
    "    route_id = routes[routes.route_short_name == str(bus_num)].route_id.values[0]\n",
    "    return route_id"
   ]
  },
  {
   "cell_type": "code",
   "execution_count": 5,
   "metadata": {},
   "outputs": [],
   "source": [
    "def get_trip_ids(route_id):\n",
    "    trips = pd.read_csv('./rome_static_gtfs/trips.txt')\n",
    "    trip_ids = trips[trips.route_id == route_id].trip_id.values\n",
    "    return trip_ids"
   ]
  },
  {
   "cell_type": "code",
   "execution_count": 6,
   "metadata": {},
   "outputs": [],
   "source": [
    "def get_scheduled_times_df(trip_ids):\n",
    "    stop_times = pd.read_csv('./rome_static_gtfs/stop_times.txt')\n",
    "    stop_times = stop_times[stop_times.trip_id.isin(trip_ids)].reset_index(drop=True)\n",
    "    return stop_times"
   ]
  },
  {
   "cell_type": "code",
   "execution_count": 7,
   "metadata": {},
   "outputs": [],
   "source": [
    "def get_line_info(df, line_num):\n",
    "    durations = []\n",
    "    lengths = []\n",
    "    stops = []\n",
    "    for trip in df.trip_id.unique():\n",
    "        df_trip = df[df.trip_id == trip]\n",
    "        if df_trip.shape_dist_traveled.iloc[-1] not in lengths:\n",
    "            lengths.append(df_trip.shape_dist_traveled.iloc[-1])\n",
    "        in_time = df_trip.arrival_time.iloc[0]\n",
    "        end_time = df_trip.arrival_time.iloc[-1]\n",
    "        try:\n",
    "            td = str(pd.to_datetime(end_time) - pd.to_datetime(in_time)).split(' ')[-1]\n",
    "            if td not in durations:\n",
    "                durations.append(td)\n",
    "        except:\n",
    "            pass\n",
    "        if len(df_trip) not in stops:\n",
    "            stops.append(len(df_trip))\n",
    "    print('Line number: {}'.format(line_num))\n",
    "    print()\n",
    "    print('Number of stops (i/o): {}'.format(stops))\n",
    "    print()\n",
    "    print('Number of daily trips: {}'.format(len(df.trip_id.unique())))\n",
    "    print()\n",
    "    print('Trip durations (i/o): {}'.format(durations))\n",
    "    print()\n",
    "    print('Trip lengths (i/o): {}'.format(lengths))"
   ]
  },
  {
   "cell_type": "code",
   "execution_count": 8,
   "metadata": {},
   "outputs": [],
   "source": [
    "def get_line_map(line_num, route_id):\n",
    "    trips = pd.read_csv('./rome_static_gtfs/trips.txt')\n",
    "    shape_ids = trips[trips.route_id == route_id].shape_id.unique()\n",
    "    shapes = pd.read_csv('./rome_static_gtfs/shapes.txt')\n",
    "    shapes = shapes[shapes.shape_id.isin(shape_ids)]\n",
    "    latitudes = {}\n",
    "    longitudes = {}\n",
    "    for s in shape_ids:\n",
    "        df = shapes[shapes.shape_id == s]\n",
    "        latitudes[s] = [df.shape_pt_lat.iloc[i] for i in range(len(df))]\n",
    "        \n",
    "        longitudes[s] = [df.shape_pt_lon.iloc[i] for i in range(len(df))]\n",
    "    gmap = gmplot.GoogleMapPlotter(41.8875, 12.4989, 12)\n",
    "    clrs = ['b', 'r', 'k', 'm', 'g']\n",
    "    for i, s in enumerate(latitudes.keys()):\n",
    "        gmap.plot(latitudes[s], longitudes[s], clrs[i], edge_width=5) \n",
    "    gmap.draw(str(line_num)+'_routes.html')"
   ]
  },
  {
   "cell_type": "markdown",
   "metadata": {},
   "source": [
    "# Bus line"
   ]
  },
  {
   "cell_type": "code",
   "execution_count": 9,
   "metadata": {
    "scrolled": true
   },
   "outputs": [
    {
     "data": {
      "text/html": [
       "<div>\n",
       "<style scoped>\n",
       "    .dataframe tbody tr th:only-of-type {\n",
       "        vertical-align: middle;\n",
       "    }\n",
       "\n",
       "    .dataframe tbody tr th {\n",
       "        vertical-align: top;\n",
       "    }\n",
       "\n",
       "    .dataframe thead th {\n",
       "        text-align: right;\n",
       "    }\n",
       "</style>\n",
       "<table border=\"1\" class=\"dataframe\">\n",
       "  <thead>\n",
       "    <tr style=\"text-align: right;\">\n",
       "      <th></th>\n",
       "      <th>trip_id</th>\n",
       "      <th>arrival_time</th>\n",
       "      <th>departure_time</th>\n",
       "      <th>stop_id</th>\n",
       "      <th>stop_sequence</th>\n",
       "      <th>stop_headsign</th>\n",
       "      <th>pickup_type</th>\n",
       "      <th>drop_off_type</th>\n",
       "      <th>shape_dist_traveled</th>\n",
       "      <th>timepoint</th>\n",
       "    </tr>\n",
       "  </thead>\n",
       "  <tbody>\n",
       "    <tr>\n",
       "      <th>0</th>\n",
       "      <td>VJ4dd9572a7ed1690a55d18e4c03baee38f38d3573</td>\n",
       "      <td>12:38:00</td>\n",
       "      <td>12:38:00</td>\n",
       "      <td>ROME797</td>\n",
       "      <td>0</td>\n",
       "      <td>NaN</td>\n",
       "      <td>0</td>\n",
       "      <td>1</td>\n",
       "      <td>0.0</td>\n",
       "      <td>1</td>\n",
       "    </tr>\n",
       "    <tr>\n",
       "      <th>1</th>\n",
       "      <td>VJ4dd9572a7ed1690a55d18e4c03baee38f38d3573</td>\n",
       "      <td>12:42:42</td>\n",
       "      <td>12:42:42</td>\n",
       "      <td>ROME804</td>\n",
       "      <td>1</td>\n",
       "      <td>NaN</td>\n",
       "      <td>0</td>\n",
       "      <td>0</td>\n",
       "      <td>1084.0</td>\n",
       "      <td>0</td>\n",
       "    </tr>\n",
       "    <tr>\n",
       "      <th>2</th>\n",
       "      <td>VJ4dd9572a7ed1690a55d18e4c03baee38f38d3573</td>\n",
       "      <td>12:43:22</td>\n",
       "      <td>12:43:22</td>\n",
       "      <td>ROME3520</td>\n",
       "      <td>2</td>\n",
       "      <td>NaN</td>\n",
       "      <td>0</td>\n",
       "      <td>0</td>\n",
       "      <td>1240.0</td>\n",
       "      <td>0</td>\n",
       "    </tr>\n",
       "    <tr>\n",
       "      <th>3</th>\n",
       "      <td>VJ4dd9572a7ed1690a55d18e4c03baee38f38d3573</td>\n",
       "      <td>12:44:32</td>\n",
       "      <td>12:44:32</td>\n",
       "      <td>ROME680</td>\n",
       "      <td>3</td>\n",
       "      <td>NaN</td>\n",
       "      <td>0</td>\n",
       "      <td>0</td>\n",
       "      <td>1512.0</td>\n",
       "      <td>0</td>\n",
       "    </tr>\n",
       "    <tr>\n",
       "      <th>4</th>\n",
       "      <td>VJ4dd9572a7ed1690a55d18e4c03baee38f38d3573</td>\n",
       "      <td>12:45:36</td>\n",
       "      <td>12:45:36</td>\n",
       "      <td>ROME2314</td>\n",
       "      <td>4</td>\n",
       "      <td>NaN</td>\n",
       "      <td>0</td>\n",
       "      <td>0</td>\n",
       "      <td>1754.0</td>\n",
       "      <td>0</td>\n",
       "    </tr>\n",
       "  </tbody>\n",
       "</table>\n",
       "</div>"
      ],
      "text/plain": [
       "                                      trip_id arrival_time departure_time  \\\n",
       "0  VJ4dd9572a7ed1690a55d18e4c03baee38f38d3573     12:38:00       12:38:00   \n",
       "1  VJ4dd9572a7ed1690a55d18e4c03baee38f38d3573     12:42:42       12:42:42   \n",
       "2  VJ4dd9572a7ed1690a55d18e4c03baee38f38d3573     12:43:22       12:43:22   \n",
       "3  VJ4dd9572a7ed1690a55d18e4c03baee38f38d3573     12:44:32       12:44:32   \n",
       "4  VJ4dd9572a7ed1690a55d18e4c03baee38f38d3573     12:45:36       12:45:36   \n",
       "\n",
       "    stop_id  stop_sequence stop_headsign  pickup_type  drop_off_type  \\\n",
       "0   ROME797              0           NaN            0              1   \n",
       "1   ROME804              1           NaN            0              0   \n",
       "2  ROME3520              2           NaN            0              0   \n",
       "3   ROME680              3           NaN            0              0   \n",
       "4  ROME2314              4           NaN            0              0   \n",
       "\n",
       "   shape_dist_traveled  timepoint  \n",
       "0                  0.0          1  \n",
       "1               1084.0          0  \n",
       "2               1240.0          0  \n",
       "3               1512.0          0  \n",
       "4               1754.0          0  "
      ]
     },
     "execution_count": 9,
     "metadata": {},
     "output_type": "execute_result"
    }
   ],
   "source": [
    "bus_num = 671\n",
    "route_id = get_route_id(bus_num)\n",
    "trip_ids = get_trip_ids(route_id)\n",
    "scheduled_times = get_scheduled_times_df(trip_ids)\n",
    "scheduled_times.head()"
   ]
  },
  {
   "cell_type": "code",
   "execution_count": 10,
   "metadata": {},
   "outputs": [
    {
     "name": "stdout",
     "output_type": "stream",
     "text": [
      "Line number: 671\n",
      "\n",
      "Number of stops (i/o): [41, 44]\n",
      "\n",
      "Number of daily trips: 381\n",
      "\n",
      "Trip durations (i/o): ['01:02:00', '01:04:00', '01:15:00', '00:44:00', '01:05:00', '01:01:00', '01:06:00', '00:40:00', '00:48:00', '00:59:00', '00:55:00', '00:52:00', '01:00:00', '00:41:00', '00:42:00', '00:45:00', '00:57:00', '00:58:00', '00:49:00', '01:10:00', '00:50:00', '00:51:00', '00:54:00', '00:56:00', '00:47:00', '01:07:00', '01:19:00', '00:46:00', '01:11:00', '01:12:00', '00:43:00', '01:18:00']\n",
      "\n",
      "Trip lengths (i/o): [14284.0, 13946.0]\n"
     ]
    }
   ],
   "source": [
    "get_line_info(scheduled_times, bus_num)"
   ]
  },
  {
   "cell_type": "code",
   "execution_count": 11,
   "metadata": {},
   "outputs": [],
   "source": [
    "get_line_map(bus_num, route_id)"
   ]
  },
  {
   "cell_type": "markdown",
   "metadata": {},
   "source": [
    "# Download data"
   ]
  },
  {
   "cell_type": "markdown",
   "metadata": {},
   "source": [
    "### Trips and positions updates"
   ]
  },
  {
   "cell_type": "code",
   "execution_count": 12,
   "metadata": {},
   "outputs": [],
   "source": [
    "time_zone = 'Europe/Rome'\n",
    "update_time = 30\n",
    "trips_file = './bus_realtime/trips.pb'\n",
    "pos_file = './bus_realtime/positions.pb'"
   ]
  },
  {
   "cell_type": "code",
   "execution_count": null,
   "metadata": {},
   "outputs": [],
   "source": [
    "########## REPEAT EVERY DAY ##########\n",
    "timestamp = 0\n",
    "today = datetime.today()\n",
    "\n",
    "csv_final = open('./bus_realtime/realtime_'+str(bus_num)+'_'+today.strftime('%Y%m%d')+'.csv', 'w')\n",
    "csv_final.write('trip_id,arrival_time,departure_time,stop_id,stop_sequence\\n')\n",
    "\n",
    "csv_pos = open('./bus_realtime/positions_'+str(bus_num)+'_'+today.strftime('%Y%m%d')+'.csv', 'w')\n",
    "csv_pos.write('trip_id,lat,lon,stop_sequence,stop_status,arrival_time\\n')\n",
    "\n",
    "min_hour = pd.to_datetime(today.strftime('%Y%m%d070000')).timestamp()\n",
    "max_hour = pd.to_datetime(today.strftime('%Y%m%d170000')).timestamp()\n",
    "now = pd.to_datetime(datetime.today().strftime('%Y%m%d%H%M%S')).timestamp()\n",
    "\n",
    "while now >= min_hour and now <= max_hour:\n",
    "    #trip updates\n",
    "    try:\n",
    "        wget.download('https://romamobilita.it/sites/default/files/rome_rtgtfs_trip_updates_feed.pb', trips_file)\n",
    "        feed = gtfs.FeedMessage()\n",
    "        with open(trips_file, 'rb') as f:\n",
    "            content = f.read()\n",
    "        feed.ParseFromString(content)\n",
    "        if feed.header.timestamp != timestamp:\n",
    "            timestamp = feed.header.timestamp\n",
    "            for entity in feed.entity:\n",
    "                if entity.trip_update.trip.route_id == str(route_id):\n",
    "                    trip_id = entity.trip_update.trip.trip_id\n",
    "                    for stop in entity.trip_update.stop_time_update:\n",
    "                        try:\n",
    "                            arrival_time = pd.to_datetime(stop.arrival.time,\n",
    "                                                        unit='s').tz_localize('UTC').tz_convert(time_zone).strftime('%H:%M:%S')\n",
    "                        except:\n",
    "                            arrival_time = np.nan\n",
    "                        try:\n",
    "                            departure_time = pd.to_datetime(stop.departure.time,\n",
    "                                                        unit='s').tz_localize('UTC').tz_convert(time_zone).strftime('%H:%M:%S')\n",
    "                        except:\n",
    "                            departure_time = np.nan\n",
    "                        csv_final.write('{},{},{},{},{}\\n'.format(trip_id, arrival_time, departure_time,\n",
    "                                                                  stop.stop_id, stop.stop_sequence))\n",
    "    except:\n",
    "        pass\n",
    "    if os.path.exists(trips_file):\n",
    "        os.remove(trips_file)\n",
    "    #position updates\n",
    "    try:\n",
    "        wget.download('https://romamobilita.it/sites/default/files/rome_rtgtfs_vehicle_positions_feed.pb', pos_file)\n",
    "        feed = gtfs.FeedMessage()\n",
    "        with open(pos_file, 'rb') as f:\n",
    "            content = f.read()\n",
    "        feed.ParseFromString(content)\n",
    "        if feed.header.timestamp != timestamp:\n",
    "            timestamp = feed.header.timestamp\n",
    "            for entity in feed.entity:\n",
    "                if entity.vehicle.trip.route_id == str(route_id):\n",
    "                    trip_id = entity.vehicle.trip.trip_id\n",
    "                    lat = entity.vehicle.position.latitude\n",
    "                    lon = entity.vehicle.position.longitude\n",
    "                    stop_seq = entity.vehicle.current_stop_sequence\n",
    "                    stop_status = entity.vehicle.current_status\n",
    "                    try:\n",
    "                        arrival_time = pd.to_datetime(entity.vehicle.timestamp,\n",
    "                                                    unit='s').tz_localize('UTC').tz_convert(time_zone).strftime('%H:%M:%S')\n",
    "                    except:\n",
    "                        arrival_time = np.nan\n",
    "                    csv_pos.write('{},{},{},{},{},{}\\n'.format(trip_id, lat, lon, stop_seq, stop_status, arrival_time))\n",
    "    except:\n",
    "        pass\n",
    "    if os.path.exists(pos_file):\n",
    "        os.remove(pos_file)\n",
    "    #sleep and update current time\n",
    "    time.sleep(update_time)\n",
    "    now = pd.to_datetime(datetime.today().strftime('%Y%m%d%H%M%S')).timestamp()\n",
    "    \n",
    "csv_final.close()\n",
    "csv_pos.close()"
   ]
  }
 ],
 "metadata": {
  "kernelspec": {
   "display_name": "Python 3",
   "language": "python",
   "name": "python3"
  },
  "language_info": {
   "codemirror_mode": {
    "name": "ipython",
    "version": 3
   },
   "file_extension": ".py",
   "mimetype": "text/x-python",
   "name": "python",
   "nbconvert_exporter": "python",
   "pygments_lexer": "ipython3",
   "version": "3.7.0"
  }
 },
 "nbformat": 4,
 "nbformat_minor": 2
}
